{
  "nbformat": 4,
  "nbformat_minor": 0,
  "metadata": {
    "colab": {
      "name": "Python Basics 101",
      "provenance": []
    },
    "kernelspec": {
      "name": "python3",
      "display_name": "Python 3"
    }
  },
  "cells": [
    {
      "cell_type": "code",
      "metadata": {
        "id": "Dr9e-s-99paR",
        "colab": {
          "base_uri": "https://localhost:8080/"
        },
        "outputId": "c98db018-3309-41c1-ade2-cc5651fd23b6"
      },
      "source": [
        "print('Meerasa Python notebook latest 2')"
      ],
      "execution_count": 3,
      "outputs": [
        {
          "output_type": "stream",
          "name": "stdout",
          "text": [
            "Meerasa Python notebook latest 2\n"
          ]
        }
      ]
    },
    {
      "cell_type": "markdown",
      "metadata": {
        "id": "cfw_nNtIBy_2"
      },
      "source": [
        "Data Types"
      ]
    },
    {
      "cell_type": "code",
      "metadata": {
        "id": "_ChCsdoJ-dGZ"
      },
      "source": [
        "n=('meerasa _ python')\n",
        "for a in n:\n",
        "  if a==\"r\": #eval(input(\"search:\")): why not possible\n",
        "    print(\"found\",a)\n",
        "    #break\n",
        "    continue\n",
        "  print(a)\n",
        "  "
      ],
      "execution_count": null,
      "outputs": []
    },
    {
      "cell_type": "code",
      "metadata": {
        "id": "iipWftDyBxfh",
        "colab": {
          "base_uri": "https://localhost:8080/",
          "height": 243
        },
        "outputId": "94143606-c4d6-47c0-8eaf-7a942dd6fba0"
      },
      "source": [
        "name = \"\"\n",
        "password = \"\"\n",
        "\n",
        "count = 0\n",
        "\n",
        "flag = False\n",
        "\n",
        "while flag == False or count == 0: \n",
        "  count += 1\n",
        "  name=str(input(\"enter your name:\"))\n",
        "  password=str(input(\"enter your password:\"))\n",
        "  flag = (name == \"meerasa\" and password == \"1980\")\n",
        "  flag1 = name == \"meerasa\"\n",
        "  flag2 = password == \"1980\"\n",
        "  print(flag)\n",
        "  print(flag1)\n",
        "  print(flag2)\n",
        "  print(count)\n",
        "print(\"hello, meerasa\")\n"
      ],
      "execution_count": null,
      "outputs": [
        {
          "output_type": "stream",
          "text": [
            "enter your name:meerasa\n",
            "enter your password:1982\n",
            "False\n",
            "True\n",
            "False\n",
            "1\n",
            "enter your name:meerasa\n",
            "enter your password:1980\n",
            "True\n",
            "True\n",
            "True\n",
            "2\n",
            "hello, meerasa\n"
          ],
          "name": "stdout"
        }
      ]
    },
    {
      "cell_type": "code",
      "metadata": {
        "id": "DelueIctUSKz",
        "colab": {
          "base_uri": "https://localhost:8080/",
          "height": 153
        },
        "outputId": "c586cdf2-6d64-49bc-9822-c6e80d4e17c8"
      },
      "source": [
        "num=[10,20,30,0,40,0,50]\n",
        "for n in num:\n",
        " if n==0:\n",
        "   print(\"infinity\")\n",
        "   continue  \n",
        " #print(\"100/{}={}\".format(n,100/n))\n",
        " print(100/n)\n",
        "else:\n",
        "  print(\"completed\")\n",
        "\n",
        "\n",
        "  \n",
        "  "
      ],
      "execution_count": null,
      "outputs": [
        {
          "output_type": "stream",
          "text": [
            "10.0\n",
            "5.0\n",
            "3.3333333333333335\n",
            "infinity\n",
            "2.5\n",
            "infinity\n",
            "2.0\n",
            "completed\n"
          ],
          "name": "stdout"
        }
      ]
    },
    {
      "cell_type": "code",
      "metadata": {
        "id": "8b9Ql5PXRoEF"
      },
      "source": [
        "a=50\n",
        "print(a)\n",
        "del a\n",
        "print(a)"
      ],
      "execution_count": null,
      "outputs": []
    },
    {
      "cell_type": "code",
      "metadata": {
        "id": "ZsUdMDeCXNe6",
        "colab": {
          "base_uri": "https://localhost:8080/",
          "height": 187
        },
        "outputId": "39c6ce93-e120-4ef2-9a83-804261fb1860"
      },
      "source": [
        "for i in range(100):\n",
        "  if i%10 ==0:\n",
        "    print(i)\n",
        "else:\n",
        "  pass\n"
      ],
      "execution_count": null,
      "outputs": [
        {
          "output_type": "stream",
          "text": [
            "0\n",
            "10\n",
            "20\n",
            "30\n",
            "40\n",
            "50\n",
            "60\n",
            "70\n",
            "80\n",
            "90\n"
          ],
          "name": "stdout"
        }
      ]
    },
    {
      "cell_type": "markdown",
      "source": [
        "## Array"
      ],
      "metadata": {
        "id": "nSX-iTPmKCNl"
      }
    },
    {
      "cell_type": "code",
      "metadata": {
        "id": "zl469LaGX8QC"
      },
      "source": [
        "arr_name = [\"cat\", \"dog\"]"
      ],
      "execution_count": null,
      "outputs": []
    }
  ]
}