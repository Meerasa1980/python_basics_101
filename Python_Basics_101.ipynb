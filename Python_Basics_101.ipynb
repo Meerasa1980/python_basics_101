{
  "nbformat": 4,
  "nbformat_minor": 0,
  "metadata": {
    "colab": {
      "name": "Python Basics 101",
      "provenance": []
    },
    "kernelspec": {
      "name": "python3",
      "display_name": "Python 3"
    }
  },
  "cells": [
    {
      "cell_type": "code",
      "metadata": {
        "id": "Dr9e-s-99paR",
        "colab": {
          "base_uri": "https://localhost:8080/",
          "height": 34
        },
        "outputId": "d0c82358-94b7-4949-e1b5-5e9f15202727"
      },
      "source": [
        "print('Meerasa Python notebook')"
      ],
      "execution_count": null,
      "outputs": [
        {
          "output_type": "stream",
          "text": [
            "Meerasa Python notebook\n"
          ],
          "name": "stdout"
        }
      ]
    },
    {
      "cell_type": "code",
      "metadata": {
        "id": "yqWEmNZjNc5q"
      },
      "source": [
        ""
      ],
      "execution_count": null,
      "outputs": []
    },
    {
      "cell_type": "code",
      "metadata": {
        "id": "KK48e6-FkSjy",
        "colab": {
          "base_uri": "https://localhost:8080/",
          "height": 119
        },
        "outputId": "dcd34154-72c6-4de2-ccb9-9d32424953d9"
      },
      "source": [
        "n=eval(input(\"enter row:\"))\n",
        "for i in range(1,n+1):\n",
        "  for j in range(1,n+2-i):\n",
        "    print(\"*\",end=\"\")\n",
        "  print()"
      ],
      "execution_count": null,
      "outputs": [
        {
          "output_type": "stream",
          "text": [
            "enter row:5\n",
            "*****\n",
            "****\n",
            "***\n",
            "**\n",
            "*\n"
          ],
          "name": "stdout"
        }
      ]
    },
    {
      "cell_type": "markdown",
      "metadata": {
        "id": "cfw_nNtIBy_2"
      },
      "source": [
        "Data Types"
      ]
    },
    {
      "cell_type": "code",
      "metadata": {
        "id": "_ChCsdoJ-dGZ",
        "colab": {
          "base_uri": "https://localhost:8080/",
          "height": 289
        },
        "outputId": "a8620f3e-6886-4725-fa54-aa1d23a76dc2"
      },
      "source": [
        "n=('meerasa _ python')\n",
        "for a in n:\n",
        "  if a==\"r\": #eval(input(\"search:\")): why not possible\n",
        "    print(\"found\",a)\n",
        "    #break\n",
        "    continue\n",
        "  print(a)\n",
        "  "
      ],
      "execution_count": null,
      "outputs": [
        {
          "output_type": "stream",
          "text": [
            "m\n",
            "e\n",
            "e\n",
            "found r\n",
            "a\n",
            "s\n",
            "a\n",
            " \n",
            "_\n",
            " \n",
            "p\n",
            "y\n",
            "t\n",
            "h\n",
            "o\n",
            "n\n"
          ],
          "name": "stdout"
        }
      ]
    },
    {
      "cell_type": "code",
      "metadata": {
        "id": "iipWftDyBxfh",
        "colab": {
          "base_uri": "https://localhost:8080/",
          "height": 243
        },
        "outputId": "94143606-c4d6-47c0-8eaf-7a942dd6fba0"
      },
      "source": [
        "name = \"\"\n",
        "password = \"\"\n",
        "\n",
        "count = 0\n",
        "\n",
        "flag = False\n",
        "\n",
        "while flag == False or count == 0: \n",
        "  count += 1\n",
        "  name=str(input(\"enter your name:\"))\n",
        "  password=str(input(\"enter your password:\"))\n",
        "  flag = (name == \"meerasa\" and password == \"1980\")\n",
        "  flag1 = name == \"meerasa\"\n",
        "  flag2 = password == \"1980\"\n",
        "  print(flag)\n",
        "  print(flag1)\n",
        "  print(flag2)\n",
        "  print(count)\n",
        "print(\"hello, meerasa\")\n"
      ],
      "execution_count": null,
      "outputs": [
        {
          "output_type": "stream",
          "text": [
            "enter your name:meerasa\n",
            "enter your password:1982\n",
            "False\n",
            "True\n",
            "False\n",
            "1\n",
            "enter your name:meerasa\n",
            "enter your password:1980\n",
            "True\n",
            "True\n",
            "True\n",
            "2\n",
            "hello, meerasa\n"
          ],
          "name": "stdout"
        }
      ]
    },
    {
      "cell_type": "code",
      "metadata": {
        "id": "DelueIctUSKz",
        "colab": {
          "base_uri": "https://localhost:8080/",
          "height": 153
        },
        "outputId": "c586cdf2-6d64-49bc-9822-c6e80d4e17c8"
      },
      "source": [
        "num=[10,20,30,0,40,0,50]\n",
        "for n in num:\n",
        " if n==0:\n",
        "   print(\"infinity\")\n",
        "   continue  \n",
        " #print(\"100/{}={}\".format(n,100/n))\n",
        " print(100/n)\n",
        "else:\n",
        "  print(\"completed\")\n",
        "\n",
        "\n",
        "  \n",
        "  "
      ],
      "execution_count": null,
      "outputs": [
        {
          "output_type": "stream",
          "text": [
            "10.0\n",
            "5.0\n",
            "3.3333333333333335\n",
            "infinity\n",
            "2.5\n",
            "infinity\n",
            "2.0\n",
            "completed\n"
          ],
          "name": "stdout"
        }
      ]
    },
    {
      "cell_type": "code",
      "metadata": {
        "id": "8b9Ql5PXRoEF",
        "colab": {
          "base_uri": "https://localhost:8080/",
          "height": 214
        },
        "outputId": "5d164f75-bce2-40d1-b121-408a8f0af659"
      },
      "source": [
        "a=50\n",
        "print(a)\n",
        "del a\n",
        "print(a)"
      ],
      "execution_count": null,
      "outputs": [
        {
          "output_type": "stream",
          "text": [
            "50\n"
          ],
          "name": "stdout"
        },
        {
          "output_type": "error",
          "ename": "NameError",
          "evalue": "ignored",
          "traceback": [
            "\u001b[0;31m---------------------------------------------------------------------------\u001b[0m",
            "\u001b[0;31mNameError\u001b[0m                                 Traceback (most recent call last)",
            "\u001b[0;32m<ipython-input-2-75362a87517c>\u001b[0m in \u001b[0;36m<module>\u001b[0;34m()\u001b[0m\n\u001b[1;32m      2\u001b[0m \u001b[0mprint\u001b[0m\u001b[0;34m(\u001b[0m\u001b[0ma\u001b[0m\u001b[0;34m)\u001b[0m\u001b[0;34m\u001b[0m\u001b[0;34m\u001b[0m\u001b[0m\n\u001b[1;32m      3\u001b[0m \u001b[0;32mdel\u001b[0m \u001b[0ma\u001b[0m\u001b[0;34m\u001b[0m\u001b[0;34m\u001b[0m\u001b[0m\n\u001b[0;32m----> 4\u001b[0;31m \u001b[0mprint\u001b[0m\u001b[0;34m(\u001b[0m\u001b[0ma\u001b[0m\u001b[0;34m)\u001b[0m\u001b[0;34m\u001b[0m\u001b[0;34m\u001b[0m\u001b[0m\n\u001b[0m",
            "\u001b[0;31mNameError\u001b[0m: name 'a' is not defined"
          ]
        }
      ]
    },
    {
      "cell_type": "code",
      "metadata": {
        "id": "ZsUdMDeCXNe6",
        "colab": {
          "base_uri": "https://localhost:8080/",
          "height": 187
        },
        "outputId": "39c6ce93-e120-4ef2-9a83-804261fb1860"
      },
      "source": [
        "for i in range(100):\n",
        "  if i%10 ==0:\n",
        "    print(i)\n",
        "else:\n",
        "  pass\n"
      ],
      "execution_count": null,
      "outputs": [
        {
          "output_type": "stream",
          "text": [
            "0\n",
            "10\n",
            "20\n",
            "30\n",
            "40\n",
            "50\n",
            "60\n",
            "70\n",
            "80\n",
            "90\n"
          ],
          "name": "stdout"
        }
      ]
    },
    {
      "cell_type": "code",
      "metadata": {
        "id": "zl469LaGX8QC"
      },
      "source": [
        ""
      ],
      "execution_count": null,
      "outputs": []
    }
  ]
}